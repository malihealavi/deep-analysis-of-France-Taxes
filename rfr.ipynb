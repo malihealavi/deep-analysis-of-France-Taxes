{
  "nbformat": 4,
  "nbformat_minor": 0,
  "metadata": {
    "colab": {
      "provenance": []
    },
    "kernelspec": {
      "name": "python3",
      "display_name": "Python 3"
    },
    "language_info": {
      "name": "python"
    }
  },
  "cells": [
    {
      "cell_type": "code",
      "execution_count": null,
      "metadata": {
        "id": "mWaFZOYXLcwC"
      },
      "outputs": [],
      "source": []
    },
    {
      "cell_type": "code",
      "source": [
        "!pip install torch==1.12.1+cu113 torchvision==0.13.1+cu113 torchaudio==0.12.1 -f https://download.pytorch.org/whl/cu113/torch_stable.html\n",
        "!pip install --extra-index-url=https://pypi.nvidia.com cudf-cu11==24.6.0\n",
        "!pip install --extra-index-url=https://pypi.nvidia.com dask-cudf-cu12==24.6.0"
      ],
      "metadata": {
        "id": "FBeQj2RLYfxT"
      },
      "execution_count": null,
      "outputs": []
    },
    {
      "cell_type": "code",
      "source": [
        "import pandas as pd\n",
        "import cudf\n",
        "import dask\n",
        "import dask.dataframe as dd\n",
        "dask.config.set(DASK_DATAFRAME__BACKEND=cudf)\n",
        "# dask.config.set({\"dataframe.backend\": \"cudf\"})\n",
        "pqdf = dd.read_parquet('/content/drive/MyDrive/datasharing-dir/francetax.parquet')\n"
      ],
      "metadata": {
        "id": "s9EItVdwYcpr"
      },
      "execution_count": null,
      "outputs": []
    },
    {
      "cell_type": "code",
      "source": [
        "from google.colab import drive\n",
        "drive.mount('/content/drive')\n",
        "import os\n",
        "folder_path = '/content/drive/MyDrive/datasharing-dir'\n",
        "os.chdir(folder_path)"
      ],
      "metadata": {
        "colab": {
          "base_uri": "https://localhost:8080/"
        },
        "id": "Aj4QZ-lmYbDr",
        "outputId": "f5bc23be-0d37-40b9-c4cc-5bff5b094474"
      },
      "execution_count": null,
      "outputs": [
        {
          "output_type": "stream",
          "name": "stdout",
          "text": [
            "Mounted at /content/drive\n"
          ]
        }
      ]
    },
    {
      "cell_type": "markdown",
      "source": [
        "Best hyperparameters RFR: {'max_depth': 7, 'min_samples_leaf': 1, 'min_samples_split': 2, 'n_estimators': 100}\n",
        "\n",
        "\n"
      ],
      "metadata": {
        "id": "L9pe9__Eacex"
      }
    },
    {
      "cell_type": "code",
      "execution_count": null,
      "metadata": {
        "id": "SGLSeEP5X8MF"
      },
      "outputs": [],
      "source": [
        "import pandas as pd\n",
        "df= pd.read_csv('/content/drive/MyDrive/datasharing-dir/selected_features.csv')\n",
        "df.drop(columns=['Unnamed: 0'], inplace=True)\n",
        "# print(df.columns)\n",
        "import warnings\n",
        "warnings.filterwarnings('ignore')\n",
        "df = df[['Total_Tax_Revenue',\n",
        "         'CFE - CHAMBRE DES METIERS / DROIT FIXE / MONTANT',\n",
        "         \"FNB - CHAMBRE D'AGRICULTURE / MONTANT REEL\",\n",
        "         'IFER STATIONS RADIOELECTRIQUES ART 1519 H DU CGI / COMMUNE / MONTANT',\n",
        "         \"TF - DEGREVEMENT D'OFFICE  /  COTISATIONS < 12 EUROS - MONTANT\",\n",
        "         'TH - COTISATIONS < 12 EUROS (TOTAL DONT REFORME TH) - MONTANT',\n",
        "         'TH - DEGREVEMENTS GESTIONNAIRES DE FOYERS - MONTANT',\n",
        "         'TH - NON-VALEURS HORS REFORME TH - MONTANT']]\n",
        "# Select the relevant columns\n",
        "# df = df.sample(n=50000, random_state=42)\n",
        "X = df.drop(columns=['Total_Tax_Revenue'])\n",
        "y = df['Total_Tax_Revenue']\n"
      ]
    },
    {
      "cell_type": "code",
      "source": [
        "from sklearn.ensemble import RandomForestRegressor\n",
        "from sklearn.model_selection import GridSearchCV\n",
        "from sklearn.feature_selection import RFE\n",
        "\n",
        "# Define the parameter grid\n",
        "param_grid = {\n",
        "    'n_estimators': [100, 200, 300],\n",
        "    'max_depth': [3, 5, 7],\n",
        "    'min_samples_split': [2, 5, 10],\n",
        "    'min_samples_leaf': [1, 2, 4],\n",
        "}\n",
        "\n",
        "# Create the Random Forest model\n",
        "rf = RandomForestRegressor()\n",
        "\n",
        "# Create the RFE object\n",
        "rfe = RFE(rf)\n",
        "\n",
        "# Perform grid search\n",
        "grid_search = GridSearchCV(rf, param_grid, cv=5, scoring='r2')\n",
        "grid_search.fit(X, y)\n",
        "\n",
        "# Get the best hyperparameters\n",
        "best_params = grid_search.best_params_\n",
        "print(f\"Best hyperparameters: {best_params}\")"
      ],
      "metadata": {
        "colab": {
          "base_uri": "https://localhost:8080/"
        },
        "id": "dQbWI2AabdUq",
        "outputId": "582c00c4-b875-43d6-eea2-fa36335d2a59"
      },
      "execution_count": null,
      "outputs": [
        {
          "output_type": "stream",
          "name": "stdout",
          "text": [
            "Best hyperparameters: {'max_depth': 7, 'min_samples_leaf': 1, 'min_samples_split': 2, 'n_estimators': 100}\n"
          ]
        }
      ]
    },
    {
      "cell_type": "code",
      "source": [
        "import pandas as pd\n",
        "import numpy as np\n",
        "from sklearn.ensemble import RandomForestRegressor\n",
        "from sklearn.model_selection import train_test_split, cross_val_score\n",
        "from sklearn.metrics import mean_squared_error, r2_score\n",
        "import matplotlib.pyplot as plt\n",
        "# Split the data into training and testing sets\n",
        "X_train, X_test, y_train, y_test = train_test_split(X, y, test_size=0.2, random_state=42)\n",
        "\n",
        "# Create the Random Forest Regressor with the best parameters\n",
        "best_rfr = RandomForestRegressor(\n",
        "    max_depth=7,\n",
        "    min_samples_leaf=1,\n",
        "    min_samples_split=2,\n",
        "    n_estimators=100,\n",
        "    random_state=42\n",
        ")\n",
        "\n",
        "# Perform 5-fold cross-validation\n",
        "cv_scores = cross_val_score(best_rfr, X, y, cv=5, scoring='r2')\n",
        "\n",
        "# Print the results\n",
        "print(f\"Cross-validation scores: {cv_scores}\")\n",
        "print(f\"Mean R2 score: {np.mean(cv_scores):.4f}\")\n",
        "print(f\"Standard deviation of R2 score: {np.std(cv_scores):.4f}\")\n",
        "\n",
        "# Train the final model on the entire dataset\n",
        "best_rfr.fit(X_train, y_train)\n",
        "\n",
        "# Predict on the test set\n",
        "y_pred = best_rfr.predict(X_test)\n",
        "\n",
        "# Calculate the R-squared score on the test set\n",
        "r2 = r2_score(y_test, y_pred)\n",
        "print(f\"R-squared score on test set: {r2:.4f}\")\n",
        "\n"
      ],
      "metadata": {
        "colab": {
          "base_uri": "https://localhost:8080/"
        },
        "id": "NBjIK9G5wBZv",
        "outputId": "54e9c4f9-f34a-4596-c3d8-115eb46f5fbb"
      },
      "execution_count": null,
      "outputs": [
        {
          "output_type": "stream",
          "name": "stdout",
          "text": [
            "Cross-validation scores: [0.6611748  0.54391837 0.87726948 0.85784876 0.77044687]\n",
            "Mean R2 score: 0.7421\n",
            "Standard deviation of R2 score: 0.1251\n",
            "R-squared score on test set: 0.8742\n"
          ]
        }
      ]
    },
    {
      "cell_type": "code",
      "source": [
        "# Print feature importances\n",
        "feature_importance = best_rfr.feature_importances_\n",
        "for feature, importance in zip(X_train.columns, feature_importance):\n",
        "    print(f\"{feature}: {importance:.4f}\")"
      ],
      "metadata": {
        "colab": {
          "base_uri": "https://localhost:8080/"
        },
        "id": "LWhOE8O7GW3k",
        "outputId": "8298f338-b15f-49d0-a8e9-221a1d9bb767"
      },
      "execution_count": null,
      "outputs": [
        {
          "output_type": "stream",
          "name": "stdout",
          "text": [
            "CFE - CHAMBRE DES METIERS / DROIT FIXE / MONTANT: 0.5014\n",
            "FNB - CHAMBRE D'AGRICULTURE / MONTANT REEL: 0.4211\n",
            "IFER STATIONS RADIOELECTRIQUES ART 1519 H DU CGI / COMMUNE / MONTANT: 0.0404\n",
            "TF - DEGREVEMENT D'OFFICE  /  COTISATIONS < 12 EUROS - MONTANT: 0.0108\n",
            "TH - COTISATIONS < 12 EUROS (TOTAL DONT REFORME TH) - MONTANT: 0.0002\n",
            "TH - DEGREVEMENTS GESTIONNAIRES DE FOYERS - MONTANT: 0.0247\n",
            "TH - NON-VALEURS HORS REFORME TH - MONTANT: 0.0013\n"
          ]
        }
      ]
    },
    {
      "cell_type": "code",
      "source": [
        "\n",
        "# Plot the predicted values vs. actual values\n",
        "plt.figure(figsize=(8, 6))\n",
        "plt.scatter(y_test, y_pred)\n",
        "plt.plot([y_test.min(), y_test.max()], [y_test.min(), y_test.max()], 'k--', lw=2)\n",
        "plt.xlabel('Actual Value')\n",
        "plt.ylabel('Predicted Value')\n",
        "plt.title(f'Predicted vs. Actual (R-squared: {r2:.4f})')\n",
        "plt.show()\n"
      ],
      "metadata": {
        "colab": {
          "base_uri": "https://localhost:8080/",
          "height": 564
        },
        "id": "xraLtKtMwGwk",
        "outputId": "2848188c-2820-4ad7-b2fc-3c89898f6d6d"
      },
      "execution_count": null,
      "outputs": [
        {
          "output_type": "display_data",
          "data": {
            "text/plain": [
              "<Figure size 800x600 with 1 Axes>"
            ],
            "image/png": "[encoded data removed]"
          },
          "metadata": {}
        }
      ]
    }
  ]
}