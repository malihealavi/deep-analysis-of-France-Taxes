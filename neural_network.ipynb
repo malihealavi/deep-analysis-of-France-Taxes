{
  "nbformat": 4,
  "nbformat_minor": 0,
  "metadata": {
    "colab": {
      "provenance": []
    },
    "kernelspec": {
      "name": "python3",
      "display_name": "Python 3"
    },
    "language_info": {
      "name": "python"
    }
  },
  "cells": [
    {
      "cell_type": "markdown",
      "source": [
        "Best hyperparameters: {'activation': 'tanh', 'alpha': 0.1, 'hidden_layer_sizes': (64, 64), 'solver': 'adam'}\n"
      ],
      "metadata": {
        "id": "Vp3XXyGA6klu"
      }
    },
    {
      "cell_type": "code",
      "source": [
        "!pip install torch==1.12.1+cu113 torchvision==0.13.1+cu113 torchaudio==0.12.1 -f https://download.pytorch.org/whl/cu113/torch_stable.html\n",
        "!pip install --extra-index-url=https://pypi.nvidia.com cudf-cu11==24.6.0\n",
        "!pip install --extra-index-url=https://pypi.nvidia.com dask-cudf-cu12==24.6.0"
      ],
      "metadata": {
        "id": "FBeQj2RLYfxT"
      },
      "execution_count": null,
      "outputs": []
    },
    {
      "cell_type": "code",
      "source": [
        "import pandas as pd\n",
        "import cudf\n",
        "import dask\n",
        "import dask.dataframe as dd\n",
        "dask.config.set(DASK_DATAFRAME__BACKEND=cudf)\n",
        "# dask.config.set({\"dataframe.backend\": \"cudf\"})\n",
        "pqdf = dd.read_parquet('/content/drive/MyDrive/datasharing-dir/francetax.parquet')\n"
      ],
      "metadata": {
        "id": "s9EItVdwYcpr"
      },
      "execution_count": null,
      "outputs": []
    },
    {
      "cell_type": "code",
      "source": [
        "from google.colab import drive\n",
        "drive.mount('/content/drive')\n",
        "import os\n",
        "folder_path = '/content/drive/MyDrive/datasharing-dir'\n",
        "os.chdir(folder_path)"
      ],
      "metadata": {
        "colab": {
          "base_uri": "https://localhost:8080/"
        },
        "id": "Aj4QZ-lmYbDr",
        "outputId": "531d5805-fc5d-4e6b-9703-f58e9774d5f6"
      },
      "execution_count": null,
      "outputs": [
        {
          "output_type": "stream",
          "name": "stdout",
          "text": [
            "Mounted at /content/drive\n"
          ]
        }
      ]
    },
    {
      "cell_type": "code",
      "execution_count": null,
      "metadata": {
        "id": "SGLSeEP5X8MF"
      },
      "outputs": [],
      "source": [
        "import pandas as pd\n",
        "df= pd.read_csv('/content/drive/MyDrive/datasharing-dir/selected_features.csv')\n",
        "df.drop(columns=['Unnamed: 0'], inplace=True)\n",
        "# print(df.columns)\n",
        "import warnings\n",
        "warnings.filterwarnings('ignore')\n",
        "df = df[['Total_Tax_Revenue',\n",
        "         'CFE - CHAMBRE DES METIERS / DROIT FIXE / MONTANT',\n",
        "         \"FNB - CHAMBRE D'AGRICULTURE / MONTANT REEL\",\n",
        "         'IFER STATIONS RADIOELECTRIQUES ART 1519 H DU CGI / COMMUNE / MONTANT',\n",
        "         \"TF - DEGREVEMENT D'OFFICE  /  COTISATIONS < 12 EUROS - MONTANT\",\n",
        "         'TH - COTISATIONS < 12 EUROS (TOTAL DONT REFORME TH) - MONTANT',\n",
        "         'TH - DEGREVEMENTS GESTIONNAIRES DE FOYERS - MONTANT',\n",
        "         'TH - NON-VALEURS HORS REFORME TH - MONTANT']]\n",
        "# Select the relevant columns\n",
        "df = df.sample(n=50000, random_state=42)\n",
        "X = df.drop(columns=['Total_Tax_Revenue'])\n",
        "y = df['Total_Tax_Revenue']\n"
      ]
    },
    {
      "cell_type": "markdown",
      "source": [
        "### 300000 samples"
      ],
      "metadata": {
        "id": "gjZnsozxe08b"
      }
    },
    {
      "cell_type": "code",
      "source": [
        "from sklearn.neural_network import MLPRegressor\n",
        "from sklearn.model_selection import GridSearchCV\n",
        "\n",
        "# Define the parameter grid\n",
        "param_grid = {\n",
        "    'hidden_layer_sizes': [(64,), (128,), (64, 64)],\n",
        "    'activation': ['relu', 'tanh'],\n",
        "    'solver': ['adam', 'sgd'],\n",
        "    'alpha': [0.0001, 0.001, 0.01, 0.1]\n",
        "}\n",
        "\n",
        "# Create the Neural Network model\n",
        "nn = MLPRegressor()\n",
        "\n",
        "# Perform grid search\n",
        "grid_search = GridSearchCV(nn, param_grid, cv=5, scoring='r2')\n",
        "grid_search.fit(X, y)\n",
        "\n",
        "# Get the best hyperparameters\n",
        "best_params = grid_search.best_params_\n",
        "print(f\"Best hyperparameters: {best_params}\")"
      ],
      "metadata": {
        "id": "U0JHRcENYQkc",
        "colab": {
          "base_uri": "https://localhost:8080/"
        },
        "outputId": "cd3de865-c318-4dc6-bc6a-862d367f314d"
      },
      "execution_count": null,
      "outputs": [
        {
          "output_type": "stream",
          "name": "stdout",
          "text": [
            "Best hyperparameters: {'activation': 'tanh', 'alpha': 0.1, 'hidden_layer_sizes': (64, 64), 'solver': 'adam'}\n"
          ]
        }
      ]
    },
    {
      "cell_type": "code",
      "source": [
        "df.shape"
      ],
      "metadata": {
        "colab": {
          "base_uri": "https://localhost:8080/"
        },
        "id": "r0Q0zuSs9_SE",
        "outputId": "168e1bb5-8207-440f-a57c-067c97db9e36"
      },
      "execution_count": null,
      "outputs": [
        {
          "output_type": "execute_result",
          "data": {
            "text/plain": [
              "(50000, 8)"
            ]
          },
          "metadata": {},
          "execution_count": 4
        }
      ]
    },
    {
      "cell_type": "code",
      "source": [
        "from sklearn.neural_network import MLPRegressor\n",
        "import pandas as pd\n",
        "import numpy as np\n",
        "from xgboost import XGBRegressor\n",
        "from sklearn.model_selection import GridSearchCV\n",
        "from sklearn.ensemble import RandomForestRegressor\n",
        "from sklearn.model_selection import train_test_split, cross_val_score\n",
        "from sklearn.metrics import mean_squared_error, r2_score\n",
        "import matplotlib.pyplot as plt\n",
        "import warnings\n",
        "warnings.filterwarnings('ignore')\n",
        "\n",
        "new_column_names = {'CFE - CHAMBRE DES METIERS / DROIT FIXE / MONTANT': 'cfe',\n",
        "                     \"FNB - CHAMBRE D'AGRICULTURE / MONTANT REEL\": 'fnb',\n",
        "                     'IFER STATIONS RADIOELECTRIQUES ART 1519 H DU CGI / COMMUNE / MONTANT': 'ifer',\n",
        "                     \"TF - DEGREVEMENT D'OFFICE  /  COTISATIONS < 12 EUROS - MONTANT\": 'tf',\n",
        "                     'TH - COTISATIONS < 12 EUROS (TOTAL DONT REFORME TH) - MONTANT': 'th-cotisations',\n",
        "                     'TH - DEGREVEMENTS GESTIONNAIRES DE FOYERS - MONTANT': 'th-degrevements',\n",
        "                     'TH - NON-VALEURS HORS REFORME TH - MONTANT': 'th-hors',\n",
        "                     }\n",
        "X = X.rename(columns=new_column_names)\n",
        "\n",
        "# Split the data into training and testing sets\n",
        "X_train, X_test, y_train, y_test = train_test_split(X, y, test_size=0.2, random_state=42)\n",
        "\n",
        "# Create the XGBoost Regressor with the best parameters\n",
        "best_mlp = MLPRegressor(\n",
        "\n",
        "    hidden_layer_sizes=  (64, 64),\n",
        "    activation=  'tanh',\n",
        "    solver= 'adam',\n",
        "    alpha= 0.1\n",
        ")\n",
        "\n",
        "# Perform 5-fold cross-validation\n",
        "cv_scores = cross_val_score(best_mlp, X, y, cv=5, scoring='r2')\n",
        "\n",
        "# Print the results\n",
        "print(f\"Cross-validation scores: {cv_scores}\")\n",
        "print(f\"Mean R2 score: {np.mean(cv_scores):.4f}\")\n",
        "print(f\"Standard deviation of R2 score: {np.std(cv_scores):.4f}\")\n",
        "\n",
        "# Train the final model on the entire dataset\n",
        "best_mlp.fit(X_train, y_train)\n",
        "\n",
        "# Predict on the test set\n",
        "y_pred = best_mlp.predict(X_test)\n",
        "\n",
        "# Calculate the R-squared score on the test set\n",
        "r2 = r2_score(y_test, y_pred)\n",
        "print(f\"R-squared score on test set: {r2:.4f}\")\n",
        "\n",
        "# Plot the predicted values vs. actual values\n",
        "plt.figure(figsize=(8, 6))\n",
        "plt.scatter(y_test, y_pred)\n",
        "plt.plot([y_test.min(), y_test.max()], [y_test.min(), y_test.max()], 'k--', lw=2)\n",
        "plt.xlabel('Actual Value')\n",
        "plt.ylabel('Predicted Value')\n",
        "plt.title(f'Predicted vs. Actual (R-squared: {r2:.4f})')\n",
        "plt.show()\n",
        "\n"
      ],
      "metadata": {
        "colab": {
          "base_uri": "https://localhost:8080/",
          "height": 638
        },
        "id": "HUo5SYlmVGwU",
        "outputId": "38ca2cc7-6371-4a57-b93b-1c478a73b0c3"
      },
      "execution_count": null,
      "outputs": [
        {
          "output_type": "stream",
          "name": "stdout",
          "text": [
            "Cross-validation scores: [-0.04881809 -0.08058116 -0.03872515 -0.65256564  0.00761196]\n",
            "Mean R2 score: -0.1626\n",
            "Standard deviation of R2 score: 0.2466\n",
            "R-squared score on test set: -0.0743\n"
          ]
        },
        {
          "output_type": "display_data",
          "data": {
            "text/plain": [
              "<Figure size 800x600 with 1 Axes>"
            ],
            "image/png": "[encoded data removed]"
          },
          "metadata": {}
        }
      ]
    }
  ]
}